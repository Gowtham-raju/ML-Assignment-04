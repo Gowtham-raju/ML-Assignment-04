{
 "cells": [
  {
   "cell_type": "markdown",
   "metadata": {},
   "source": [
    "# Assignment-04"
   ]
  },
  {
   "cell_type": "markdown",
   "metadata": {},
   "source": [
    "1.1 Write a Python Program(with class concepts) to find the area of the triangle using the below\n",
    "formula.\n",
    "\n",
    "area = (s*(s-a)*(s-b)*(s-c)) ** 0.5\n",
    "\n",
    "Function to take the length of the sides of triangle from user should be defined in the parent\n",
    "class and function to calculate the area should be defined in subclass."
   ]
  },
  {
   "cell_type": "code",
   "execution_count": null,
   "metadata": {},
   "outputs": [],
   "source": [
    "class Parent:\n",
    "    def __init__(self, side_a, side_b, side_c):\n",
    "        self.side_a=side_a\n",
    "        self.side_b=side_b\n",
    "        self.side_c=side_c\n",
    "\n",
    "class Child(Parent):\n",
    "    def __init__(self,*args):\n",
    "        super(Child,self).__init__(*args)\n",
    "        \n",
    "    def area_of_triangle(self):\n",
    "        s=(a+b+c)/2\n",
    "        area=(s*(s-a)*(s-b)*(s-c)) ** 0.5\n",
    "        print(\"Area of triangle :\" ,round(area,3))\n",
    "        \n",
    "a= int(input(\"Enter side_a value :\"))\n",
    "b= int(input(\"Enter side_b value :\"))\n",
    "c= int(input(\"Enter side_c value :\"))\n",
    "d= Child(a,b,c)\n",
    "d.area_of_triangle()"
   ]
  },
  {
   "cell_type": "markdown",
   "metadata": {},
   "source": [
    "1.2 Write a function filter_long_words() that takes a list of words and an integer n and returns\n",
    "the list of words that are longer than n."
   ]
  },
  {
   "cell_type": "code",
   "execution_count": null,
   "metadata": {},
   "outputs": [],
   "source": [
    "def Longest_word(list, n):\n",
    "    max=\"\"\n",
    "    ls=[]\n",
    "    for i in range(len(list)):\n",
    "        if len(list[i])>n:\n",
    "            ls.append(list[i])\n",
    "    return ls        \n",
    "    \n",
    "Longest_words=[var for var in input(\"Enter sentence :\").split(\" \")]\n",
    "n=int(input(\"Enter value to print more than give length:\"))\n",
    "print(\"Longest words in given sentence based on given length : \",Longest_word(Longest_words,n))"
   ]
  },
  {
   "cell_type": "markdown",
   "metadata": {},
   "source": [
    "2.1 Write a Python program using function concept that maps list of words into a list of integers\n",
    "representing the lengths of the corresponding words.\n",
    "\n",
    "Hint: If a list [ ab,cde,erty] is passed on to the python function output should come as [2,3,4]\n",
    "Here 2,3 and 4 are the lengths of the words in the list."
   ]
  },
  {
   "cell_type": "code",
   "execution_count": null,
   "metadata": {},
   "outputs": [],
   "source": [
    "def words_list(List_of_words):\n",
    "    ls=[]\n",
    "    for i in range(len(List_of_words)):\n",
    "        ls.append(len(List_of_words[i]))\n",
    "    return ls        \n",
    "    \n",
    "List_of_words=[var for var in input(\"Enter sentence :\").split(\" \")]\n",
    "\n",
    "print(\"List of words with corresponding length of word : \",words_list(List_of_words))"
   ]
  },
  {
   "cell_type": "markdown",
   "metadata": {},
   "source": [
    "2.2 Write a Python function which takes a character (i.e. a string of length 1) and returns True if\n",
    "it is a vowel, False otherwise."
   ]
  },
  {
   "cell_type": "code",
   "execution_count": null,
   "metadata": {},
   "outputs": [],
   "source": [
    "char = input(\"Enter a letter of the alphabet: \")\n",
    "\n",
    "if char.lower() in ('a', 'e', 'i', 'o', 'u'):\n",
    "    print(\"%s is a vowel.\" % char)\n",
    "else:\n",
    "    print(\"%s is a consonant.\" % char)"
   ]
  }
 ],
 "metadata": {
  "kernelspec": {
   "display_name": "Python 3",
   "language": "python",
   "name": "python3"
  },
  "language_info": {
   "codemirror_mode": {
    "name": "ipython",
    "version": 3
   },
   "file_extension": ".py",
   "mimetype": "text/x-python",
   "name": "python",
   "nbconvert_exporter": "python",
   "pygments_lexer": "ipython3",
   "version": "3.7.1"
  }
 },
 "nbformat": 4,
 "nbformat_minor": 2
}
